{
 "cells": [
  {
   "cell_type": "code",
   "execution_count": 1,
   "id": "4e70534d",
   "metadata": {},
   "outputs": [],
   "source": [
    "def solution(my_string, index_list):\n",
    "    answer = ''\n",
    "    for i in index_list:\n",
    "        answer+=my_string[i]\n",
    "    return answer"
   ]
  },
  {
   "cell_type": "code",
   "execution_count": 2,
   "id": "215f9405",
   "metadata": {
    "scrolled": true
   },
   "outputs": [
    {
     "data": {
      "text/plain": [
       "'programmers'"
      ]
     },
     "execution_count": 2,
     "metadata": {},
     "output_type": "execute_result"
    }
   ],
   "source": [
    "solution(\"cvsgiorszzzmrpaqpe\",[16, 6, 5, 3, 12, 14, 11, 11, 17, 12, 7])"
   ]
  },
  {
   "cell_type": "code",
   "execution_count": 3,
   "id": "b6cb1b04",
   "metadata": {},
   "outputs": [],
   "source": [
    "def solution(number):\n",
    "    return int(number)%9"
   ]
  },
  {
   "cell_type": "code",
   "execution_count": 37,
   "id": "d6f31c44",
   "metadata": {},
   "outputs": [],
   "source": [
    "def solution(my_string, queries):\n",
    "    for s, e in queries:\n",
    "        print(s,e)\n",
    "        print(my_string[:s],my_string[s:e+1][::-1],my_string[e+1:])\n",
    "        my_string = my_string[:s] + my_string[s:e+1][::-1] + my_string[e+1:]\n",
    "    return my_string"
   ]
  },
  {
   "cell_type": "code",
   "execution_count": 38,
   "id": "40c6e7c3",
   "metadata": {},
   "outputs": [
    {
     "name": "stdout",
     "output_type": "stream",
     "text": [
      "2 3\n",
      "re mr gorpsam\n",
      "0 7\n",
      " progrmer sam\n",
      "5 9\n",
      "progr asrem m\n",
      "6 10\n",
      "progra mmers \n"
     ]
    },
    {
     "data": {
      "text/plain": [
       "'programmers'"
      ]
     },
     "execution_count": 38,
     "metadata": {},
     "output_type": "execute_result"
    }
   ],
   "source": [
    "solution(\"rermgorpsam\",[[2, 3], [0, 7], [5, 9], [6, 10]])"
   ]
  },
  {
   "cell_type": "code",
   "execution_count": 11,
   "id": "1849a12c",
   "metadata": {},
   "outputs": [],
   "source": [
    "def solution(intStrs, k, s, l):\n",
    "    answer = []\n",
    "    for i in intStrs:\n",
    "        if int(i[s:s+l]) > k:\n",
    "            answer.append(int(i[s:s+l]))\n",
    "    return answer"
   ]
  },
  {
   "cell_type": "code",
   "execution_count": 12,
   "id": "83a5fd06",
   "metadata": {},
   "outputs": [
    {
     "data": {
      "text/plain": [
       "[56789, 99999]"
      ]
     },
     "execution_count": 12,
     "metadata": {},
     "output_type": "execute_result"
    }
   ],
   "source": [
    "solution([\"0123456789\",\"9876543210\",\"9999999999999\"],50000,5,5)"
   ]
  }
 ],
 "metadata": {
  "kernelspec": {
   "display_name": "Python 3 (ipykernel)",
   "language": "python",
   "name": "python3"
  },
  "language_info": {
   "codemirror_mode": {
    "name": "ipython",
    "version": 3
   },
   "file_extension": ".py",
   "mimetype": "text/x-python",
   "name": "python",
   "nbconvert_exporter": "python",
   "pygments_lexer": "ipython3",
   "version": "3.10.9"
  }
 },
 "nbformat": 4,
 "nbformat_minor": 5
}
