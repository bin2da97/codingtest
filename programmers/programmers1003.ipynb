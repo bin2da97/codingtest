{
 "cells": [
  {
   "cell_type": "code",
   "execution_count": 1,
   "id": "1e0c1be3",
   "metadata": {},
   "outputs": [],
   "source": [
    "def solution(arr, idx):\n",
    "    answer = -1\n",
    "    for arr_idx,i in enumerate(arr):\n",
    "        if  arr_idx >= idx and i==1:\n",
    "            answer=arr_idx\n",
    "            break\n",
    "    return answer"
   ]
  },
  {
   "cell_type": "code",
   "execution_count": null,
   "id": "de84ff3e",
   "metadata": {},
   "outputs": [],
   "source": [
    "def solution(arr, idx):\n",
    "    for i in range(idx, len(arr)):\n",
    "        if arr[i] == 1:\n",
    "            return i\n",
    "    return -1"
   ]
  },
  {
   "cell_type": "code",
   "execution_count": 2,
   "id": "43a5abd6",
   "metadata": {
    "scrolled": true
   },
   "outputs": [
    {
     "data": {
      "text/plain": [
       "3"
      ]
     },
     "execution_count": 2,
     "metadata": {},
     "output_type": "execute_result"
    }
   ],
   "source": [
    "solution([0, 0, 0, 1],1)"
   ]
  },
  {
   "cell_type": "code",
   "execution_count": 3,
   "id": "d2c1f947",
   "metadata": {},
   "outputs": [],
   "source": [
    "def solution(n, slicer, num_list):\n",
    "    a,b,c=slicer\n",
    "    if n ==1:\n",
    "        return num_list[:b+1]\n",
    "    elif n ==2:\n",
    "        return num_list[a:]\n",
    "    elif n ==3:\n",
    "        return num_list[a:b+1]\n",
    "    elif n ==4:\n",
    "        return num_list[a:b+1:c]"
   ]
  },
  {
   "cell_type": "code",
   "execution_count": 4,
   "id": "d0f37594",
   "metadata": {},
   "outputs": [],
   "source": [
    "def solution(n, slicer, num_list):\n",
    "    a, b, c = slicer\n",
    "    return [num_list[:b + 1], num_list[a:], num_list[a:b + 1], num_list[a:b + 1:c]][n - 1]"
   ]
  },
  {
   "cell_type": "code",
   "execution_count": null,
   "id": "a719cccf",
   "metadata": {},
   "outputs": [],
   "source": []
  }
 ],
 "metadata": {
  "kernelspec": {
   "display_name": "Python 3 (ipykernel)",
   "language": "python",
   "name": "python3"
  },
  "language_info": {
   "codemirror_mode": {
    "name": "ipython",
    "version": 3
   },
   "file_extension": ".py",
   "mimetype": "text/x-python",
   "name": "python",
   "nbconvert_exporter": "python",
   "pygments_lexer": "ipython3",
   "version": "3.10.9"
  }
 },
 "nbformat": 4,
 "nbformat_minor": 5
}
