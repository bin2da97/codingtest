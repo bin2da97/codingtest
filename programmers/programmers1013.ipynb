{
 "cells": [
  {
   "cell_type": "code",
   "execution_count": 38,
   "id": "5659c53e",
   "metadata": {},
   "outputs": [],
   "source": [
    "def solution(arr):\n",
    "    answer = []\n",
    "    if 2 not in arr:\n",
    "        answer=[-1]\n",
    "    else:    \n",
    "        first=arr.index(2)\n",
    "        print(first)\n",
    "        second=arr[::-1].index(2)\n",
    "        print(-second)\n",
    "        answer=arr[first:-second]\n",
    "\n",
    "    return answer"
   ]
  },
  {
   "cell_type": "code",
   "execution_count": 39,
   "id": "67c472b9",
   "metadata": {},
   "outputs": [
    {
     "data": {
      "text/plain": [
       "[-1]"
      ]
     },
     "execution_count": 39,
     "metadata": {},
     "output_type": "execute_result"
    }
   ],
   "source": [
    "solution([1, 1, 1])"
   ]
  },
  {
   "cell_type": "code",
   "execution_count": 51,
   "id": "e0dfcf70",
   "metadata": {},
   "outputs": [],
   "source": [
    "def solution(arr, query):\n",
    "    answer = arr\n",
    "    for i in query:\n",
    "        print(i)\n",
    "        if i%2==0:\n",
    "            answer=answer[:i+1]\n",
    "        else:\n",
    "            answer=answer[i:]\n",
    "    return answer"
   ]
  },
  {
   "cell_type": "code",
   "execution_count": 52,
   "id": "ff8acfaa",
   "metadata": {},
   "outputs": [
    {
     "name": "stdout",
     "output_type": "stream",
     "text": [
      "4\n",
      "1\n",
      "2\n"
     ]
    },
    {
     "data": {
      "text/plain": [
       "[1, 2, 3]"
      ]
     },
     "execution_count": 52,
     "metadata": {},
     "output_type": "execute_result"
    }
   ],
   "source": [
    "solution([0, 1, 2, 3, 4, 5],[4, 1, 2])"
   ]
  },
  {
   "cell_type": "code",
   "execution_count": 53,
   "id": "1c40ba68",
   "metadata": {},
   "outputs": [],
   "source": [
    "def solution(arr, query):\n",
    "    for i in range(len(query)):\n",
    "        print(query[i])\n",
    "        if i % 2 == 0 :\n",
    "            arr = arr[:query[i]+1]\n",
    "        else :\n",
    "            arr = arr[query[i]:]\n",
    "    return arr"
   ]
  },
  {
   "cell_type": "code",
   "execution_count": 54,
   "id": "ce640e01",
   "metadata": {},
   "outputs": [
    {
     "name": "stdout",
     "output_type": "stream",
     "text": [
      "4\n",
      "1\n",
      "2\n"
     ]
    },
    {
     "data": {
      "text/plain": [
       "[1, 2, 3]"
      ]
     },
     "execution_count": 54,
     "metadata": {},
     "output_type": "execute_result"
    }
   ],
   "source": [
    "solution([0, 1, 2, 3, 4, 5],[4, 1, 2])"
   ]
  }
 ],
 "metadata": {
  "kernelspec": {
   "display_name": "Python 3 (ipykernel)",
   "language": "python",
   "name": "python3"
  },
  "language_info": {
   "codemirror_mode": {
    "name": "ipython",
    "version": 3
   },
   "file_extension": ".py",
   "mimetype": "text/x-python",
   "name": "python",
   "nbconvert_exporter": "python",
   "pygments_lexer": "ipython3",
   "version": "3.10.9"
  }
 },
 "nbformat": 4,
 "nbformat_minor": 5
}
