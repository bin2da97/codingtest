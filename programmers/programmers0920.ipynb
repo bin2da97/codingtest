{
 "cells": [
  {
   "cell_type": "code",
   "execution_count": 1,
   "id": "4cb49afc",
   "metadata": {},
   "outputs": [],
   "source": [
    "def solution(start_num, end_num):\n",
    "    answer = [i for i in range(start_num,end_num+1)]\n",
    "    return answer"
   ]
  },
  {
   "cell_type": "code",
   "execution_count": 4,
   "id": "a84ea664",
   "metadata": {
    "scrolled": true
   },
   "outputs": [
    {
     "data": {
      "text/plain": [
       "[3, 4, 5, 6, 7, 8, 9, 10]"
      ]
     },
     "execution_count": 4,
     "metadata": {},
     "output_type": "execute_result"
    }
   ],
   "source": [
    "solution(3,10)"
   ]
  },
  {
   "cell_type": "code",
   "execution_count": 11,
   "id": "de112a04",
   "metadata": {},
   "outputs": [],
   "source": [
    "def solution1(n):\n",
    "    answer = [n]\n",
    "    for i in range(n):\n",
    "        if answer[-1]%2==0:\n",
    "            answer.append(answer[-1]//2)\n",
    "        else:\n",
    "            answer.append(3*answer[-1]+1)\n",
    "        if answer[-1]==1:\n",
    "            break\n",
    "    return answer"
   ]
  },
  {
   "cell_type": "code",
   "execution_count": 12,
   "id": "e7340fcc",
   "metadata": {},
   "outputs": [
    {
     "data": {
      "text/plain": [
       "[10, 5, 16, 8, 4, 2, 1]"
      ]
     },
     "execution_count": 12,
     "metadata": {},
     "output_type": "execute_result"
    }
   ],
   "source": [
    "solution1(10)"
   ]
  },
  {
   "cell_type": "code",
   "execution_count": 22,
   "id": "9fcd3a70",
   "metadata": {},
   "outputs": [],
   "source": [
    "def solution1_1(n):\n",
    "    answer = [n]\n",
    "    while n > 1:\n",
    "        if n % 2 == 0:\n",
    "            n //= 2\n",
    "        else:\n",
    "            n = 3 * n + 1\n",
    "        answer.append(n)\n",
    "    return answer"
   ]
  },
  {
   "cell_type": "code",
   "execution_count": 23,
   "id": "283afe65",
   "metadata": {
    "scrolled": true
   },
   "outputs": [
    {
     "data": {
      "text/plain": [
       "[10, 5, 16, 8, 4, 2, 1]"
      ]
     },
     "execution_count": 23,
     "metadata": {},
     "output_type": "execute_result"
    }
   ],
   "source": [
    "solution1_1(10)"
   ]
  },
  {
   "cell_type": "code",
   "execution_count": 53,
   "id": "195017f4",
   "metadata": {},
   "outputs": [],
   "source": [
    "def solution2(arr):\n",
    "    stk = []\n",
    "    i=0\n",
    "    while i<len(arr):\n",
    "        if len(stk)==0:\n",
    "            stk.append(arr[i])\n",
    "            i+=1\n",
    "        else:\n",
    "            if stk[-1]<arr[i]:\n",
    "                stk.append(arr[i])\n",
    "                i+=1\n",
    "            else:\n",
    "                stk.pop()\n",
    "    return stk"
   ]
  },
  {
   "cell_type": "code",
   "execution_count": 54,
   "id": "ace26f23",
   "metadata": {},
   "outputs": [
    {
     "data": {
      "text/plain": [
       "[1, 2, 3]"
      ]
     },
     "execution_count": 54,
     "metadata": {},
     "output_type": "execute_result"
    }
   ],
   "source": [
    "solution2([1, 4, 2, 5, 3])"
   ]
  },
  {
   "cell_type": "code",
   "execution_count": 55,
   "id": "facd5ab7",
   "metadata": {},
   "outputs": [],
   "source": [
    "def solution3(x1, x2, x3, x4):\n",
    "    answer = (x1 or x2) and (x3 or x4)\n",
    "    return answer"
   ]
  },
  {
   "cell_type": "code",
   "execution_count": 56,
   "id": "9aef3c00",
   "metadata": {},
   "outputs": [
    {
     "data": {
      "text/plain": [
       "True"
      ]
     },
     "execution_count": 56,
     "metadata": {},
     "output_type": "execute_result"
    }
   ],
   "source": [
    "solution3(False,True,True,True)"
   ]
  }
 ],
 "metadata": {
  "kernelspec": {
   "display_name": "Python 3 (ipykernel)",
   "language": "python",
   "name": "python3"
  },
  "language_info": {
   "codemirror_mode": {
    "name": "ipython",
    "version": 3
   },
   "file_extension": ".py",
   "mimetype": "text/x-python",
   "name": "python",
   "nbconvert_exporter": "python",
   "pygments_lexer": "ipython3",
   "version": "3.10.9"
  }
 },
 "nbformat": 4,
 "nbformat_minor": 5
}
