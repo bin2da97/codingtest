{
 "cells": [
  {
   "cell_type": "markdown",
   "id": "df092a30",
   "metadata": {},
   "source": [
    "https://school.programmers.co.kr/learn/courses/30/lessons/150369"
   ]
  },
  {
   "cell_type": "code",
   "execution_count": null,
   "id": "452d56dd",
   "metadata": {},
   "outputs": [],
   "source": [
    "def update(box,cap): # 트럭 이동, 배달과 수거에 맞춰서 deliveries,pickups 리스트 업데이트\n",
    "    #box 배송, cap 수거\n",
    "    while len(box):\n",
    "        if cap < box[-1]: # 배송 상자보다 배송받아야하는 수 더 큰경우, 다 줌\n",
    "            box[-1] -= cap\n",
    "            break\n",
    "        else:\n",
    "            cap -= box[-1]\n",
    "            box.pop()\n",
    "            \n",
    "def solution(cap, n, deliveries, pickups):\n",
    "    answer = 0 # 거리 누적 0 초기화\n",
    "    while len(deliveries) or len(pickups): # 배달,수거 갯수가 남아있을때 작업, 모두 0이면 종료\n",
    "        while len(deliveries) and deliveries[-1] == 0: #맨오른 쪽 0은 포함 x\n",
    "            deliveries.pop() \n",
    "        while len(pickups) and pickups[-1] == 0: #맨오른 쪽 0은 포함 x\n",
    "            pickups.pop()\n",
    "            # 이동거리(deliverise, pickups 중 max값) 구할 수있게됨\n",
    "        answer += max(len(deliveries),len(pickups)) * 2 # 왕복거리 누적\n",
    "        update(deliveries,cap)\n",
    "        update(pickups,cap)\n",
    "        \n",
    "    return answer"
   ]
  }
 ],
 "metadata": {
  "kernelspec": {
   "display_name": "Python 3 (ipykernel)",
   "language": "python",
   "name": "python3"
  },
  "language_info": {
   "codemirror_mode": {
    "name": "ipython",
    "version": 3
   },
   "file_extension": ".py",
   "mimetype": "text/x-python",
   "name": "python",
   "nbconvert_exporter": "python",
   "pygments_lexer": "ipython3",
   "version": "3.11.5"
  }
 },
 "nbformat": 4,
 "nbformat_minor": 5
}
