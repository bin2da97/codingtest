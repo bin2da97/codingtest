{
 "cells": [
  {
   "cell_type": "code",
   "execution_count": 104,
   "id": "f6321dff",
   "metadata": {},
   "outputs": [],
   "source": [
    "def solution(a, b, c, d):\n",
    "    nums = {a, b, c, d}\n",
    "    if len(nums) == 4:\n",
    "        return min(nums)\n",
    "    \n",
    "    count = {}\n",
    "    for num in (a, b, c, d):\n",
    "        count[num] = count.get(num, 0) + 1\n",
    "    \n",
    "    if len(nums) == 1:\n",
    "        return nums.pop() * 1111\n",
    "    elif len(nums) == 2:\n",
    "        if 3 in count.values():\n",
    "            p = [k for k, v in count.items() if v == 3][0]\n",
    "            q = [k for k in nums if k != p][0]\n",
    "            return (10 * p + q) ** 2\n",
    "        else:\n",
    "            p, q = count.keys()\n",
    "            return (p + q) * abs(p - q)\n",
    "    else:\n",
    "        p = [k for k, v in count.items() if v == 2][0]\n",
    "        q, r = [k for k in nums if k != p]\n",
    "        print(p,q,r)\n",
    "        return q * r"
   ]
  },
  {
   "cell_type": "code",
   "execution_count": 3,
   "id": "f4a77f00",
   "metadata": {},
   "outputs": [],
   "source": [
    "def solution(a, b, c, d):\n",
    "    num={a,b,c,d}\n",
    "    answer = 0\n",
    "    count={}\n",
    "    for i in (a,b,c,d):\n",
    "        count[i]=count.get(i,0)+1\n",
    "        \n",
    "    print(num)\n",
    "    print(len(num))\n",
    "    if len(num)==1:\n",
    "        answer=num.pop()*1111\n",
    "    elif len(num)==2:\n",
    "        if 3 in count.values(): \n",
    "            p=[k for k,v in count.items() if v==3][0]\n",
    "            q=[k for k in num if k!=p][0]\n",
    "            answer=(10 * p + q)**2\n",
    "        else:\n",
    "            p,q = count.keys()\n",
    "            answer= (p + q) * abs(p - q)\n",
    "    elif len(num)==3:\n",
    "        p=[k for k,v in count.items() if v==2][0]\n",
    "        q,r=[k for k in num if k!=p]\n",
    "        answer= q*r\n",
    "    elif len(num)==4:\n",
    "        answer=min(num)\n",
    "    return answer"
   ]
  },
  {
   "cell_type": "code",
   "execution_count": 4,
   "id": "5680758b",
   "metadata": {
    "scrolled": true
   },
   "outputs": [
    {
     "name": "stdout",
     "output_type": "stream",
     "text": [
      "{2}\n",
      "1\n"
     ]
    },
    {
     "data": {
      "text/plain": [
       "2222"
      ]
     },
     "execution_count": 4,
     "metadata": {},
     "output_type": "execute_result"
    }
   ],
   "source": [
    "solution(2,2,2,2)"
   ]
  },
  {
   "cell_type": "code",
   "execution_count": null,
   "id": "f434e766",
   "metadata": {},
   "outputs": [],
   "source": [
    "def solution(a, b, c, d):\n",
    "    num={a,b,c,d}\n",
    "    answer = 0\n",
    "    print(num)\n",
    "    print(len(num))\n",
    "    if len(num)==1:\n",
    "        answer=num.pop()*1111\n",
    "    return answer"
   ]
  },
  {
   "cell_type": "code",
   "execution_count": 5,
   "id": "6d12877b",
   "metadata": {},
   "outputs": [
    {
     "data": {
      "text/plain": [
       "['i',\n",
       " 'hesitate',\n",
       " 'no',\n",
       " 'wait',\n",
       " 'im',\n",
       " 'but',\n",
       " 'yours',\n",
       " 'wont',\n",
       " 'it',\n",
       " 'cannot',\n",
       " 'more']"
      ]
     },
     "execution_count": 5,
     "metadata": {},
     "output_type": "execute_result"
    }
   ],
   "source": [
    "arr = ['but', 'i', 'wont', 'hesitate', 'no', 'more', 'no', 'more', 'it', 'cannot', 'wait', 'im', 'yours']\n",
    "\n",
    "\n",
    "arr = set(arr) # \"arr\"라는 리스트의 데이터 타입을 set으로 바꾼다.\n",
    "#set은 중복요소를 허용하지 않는 데이터형태이기 때문에, 중복요소들이 제거된다.\n",
    "list(arr)"
   ]
  },
  {
   "cell_type": "code",
   "execution_count": null,
   "id": "be2c46d7",
   "metadata": {},
   "outputs": [],
   "source": []
  }
 ],
 "metadata": {
  "kernelspec": {
   "display_name": "Python 3 (ipykernel)",
   "language": "python",
   "name": "python3"
  },
  "language_info": {
   "codemirror_mode": {
    "name": "ipython",
    "version": 3
   },
   "file_extension": ".py",
   "mimetype": "text/x-python",
   "name": "python",
   "nbconvert_exporter": "python",
   "pygments_lexer": "ipython3",
   "version": "3.10.9"
  }
 },
 "nbformat": 4,
 "nbformat_minor": 5
}
