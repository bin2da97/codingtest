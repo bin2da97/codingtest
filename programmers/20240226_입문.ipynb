{
 "cells": [
  {
   "cell_type": "markdown",
   "id": "4b718d0d",
   "metadata": {},
   "source": [
    "#  분수의 덧셈"
   ]
  },
  {
   "cell_type": "code",
   "execution_count": null,
   "id": "b5eaeb7e",
   "metadata": {},
   "outputs": [],
   "source": [
    "import math\n",
    "\n",
    "def solution(denum1, num1, denum2, num2):\n",
    "    # a/b+c/d = (a*d+b*c)/b*d\n",
    "    denum = denum1 * num2 + denum2 * num1 \n",
    "    num = num1 * num2\n",
    "    gcd = math.gcd(denum, num)\n",
    "    return [denum//gcd, num//gcd]"
   ]
  },
  {
   "cell_type": "markdown",
   "id": "eae76983",
   "metadata": {},
   "source": [
    "# 최빈값 구하기"
   ]
  },
  {
   "cell_type": "code",
   "execution_count": null,
   "id": "302f099c",
   "metadata": {},
   "outputs": [],
   "source": [
    "def solution(array):\n",
    "    dict1 = {}\n",
    "\n",
    "    for i in array:\n",
    "        if i in dict1.keys():\n",
    "            dict1[i] += 1\n",
    "        else:\n",
    "            dict1[i] = 1\n",
    "\n",
    "    max_count = max(dict1.values())\n",
    "    mode_candidates = [key for key, value in dict1.items() if value == max_count]\n",
    "\n",
    "    if len(mode_candidates) > 1:\n",
    "        return -1\n",
    "    else:\n",
    "        return mode_candidates[0]\n"
   ]
  },
  {
   "cell_type": "markdown",
   "id": "c31c1618",
   "metadata": {},
   "source": [
    "# 문자열 뒤집기"
   ]
  },
  {
   "cell_type": "code",
   "execution_count": null,
   "id": "34bbca19",
   "metadata": {},
   "outputs": [],
   "source": [
    "def solution(my_string):\n",
    "\n",
    "    my_list = list(my_string)\n",
    "    my_list.reverse()\n",
    "\n",
    "    answer = ''.join(my_list)\n",
    "\n",
    "    return answer"
   ]
  },
  {
   "cell_type": "code",
   "execution_count": null,
   "id": "8c9b97e5",
   "metadata": {},
   "outputs": [],
   "source": [
    "def solution(my_string):\n",
    "    return ''.join(list(reversed(my_string)))"
   ]
  },
  {
   "cell_type": "code",
   "execution_count": null,
   "id": "2546cfe8",
   "metadata": {},
   "outputs": [],
   "source": [
    "def solution(my_string):\n",
    "    return my_string[::-1]"
   ]
  }
 ],
 "metadata": {
  "kernelspec": {
   "display_name": "Python 3 (ipykernel)",
   "language": "python",
   "name": "python3"
  },
  "language_info": {
   "codemirror_mode": {
    "name": "ipython",
    "version": 3
   },
   "file_extension": ".py",
   "mimetype": "text/x-python",
   "name": "python",
   "nbconvert_exporter": "python",
   "pygments_lexer": "ipython3",
   "version": "3.11.5"
  }
 },
 "nbformat": 4,
 "nbformat_minor": 5
}
