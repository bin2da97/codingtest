{
 "cells": [
  {
   "cell_type": "code",
   "execution_count": 3,
   "id": "66cddd48",
   "metadata": {},
   "outputs": [],
   "source": [
    "def solution(arr, queries):\n",
    "    answer = []\n",
    "    for idx_a,idx_b,int_c in queries:\n",
    "        print(idx_a,idx_b,int_c)\n",
    "        arr2=[]\n",
    "        print(arr[idx_a:idx_b+1])\n",
    "        for i in arr[idx_a:idx_b+1]:\n",
    "            if i > int_c:\n",
    "                arr2.append(i)\n",
    "        if len(arr2) == 0:\n",
    "            answer.append(-1)\n",
    "        else:\n",
    "            answer.append(min(arr2))\n",
    "    return answer"
   ]
  },
  {
   "cell_type": "code",
   "execution_count": 4,
   "id": "11156a3f",
   "metadata": {
    "scrolled": false
   },
   "outputs": [
    {
     "name": "stdout",
     "output_type": "stream",
     "text": [
      "0 4 2\n",
      "[0, 1, 2, 4, 3]\n",
      "0 3 2\n",
      "[0, 1, 2, 4]\n",
      "0 2 2\n",
      "[0, 1, 2]\n"
     ]
    },
    {
     "data": {
      "text/plain": [
       "[3, 4, -1]"
      ]
     },
     "execution_count": 4,
     "metadata": {},
     "output_type": "execute_result"
    }
   ],
   "source": [
    "solution([0, 1, 2, 4, 3],[[0, 4, 2],[0, 3, 2],[0, 2, 2]])"
   ]
  },
  {
   "cell_type": "code",
   "execution_count": null,
   "id": "683d1f8f",
   "metadata": {},
   "outputs": [],
   "source": [
    "def solution1(arr, queries):\n",
    "    answer = []\n",
    "    for idx_a,idx_b,int_c in queries:\n",
    "        print(idx_a,idx_b,int_c)\n",
    "        arr2=[]\n",
    "        print(arr[idx_a:idx_b+1])\n",
    "        for i in arr[idx_a:idx_b+1]:\n",
    "            if i > int_c:\n",
    "                arr2.append(i)\n",
    "        if len(arr2) == 0:\n",
    "            answer.append(-1)\n",
    "        else:\n",
    "            answer.append(min(arr2))\n",
    "    return answer"
   ]
  },
  {
   "cell_type": "code",
   "execution_count": 4,
   "id": "5cc3e9e9",
   "metadata": {
    "scrolled": false
   },
   "outputs": [
    {
     "name": "stdout",
     "output_type": "stream",
     "text": [
      "0 4 2\n",
      "[0, 1, 2, 4, 3]\n",
      "0 3 2\n",
      "[0, 1, 2, 4]\n",
      "0 2 2\n",
      "[0, 1, 2]\n"
     ]
    },
    {
     "data": {
      "text/plain": [
       "[3, 4, -1]"
      ]
     },
     "execution_count": 4,
     "metadata": {},
     "output_type": "execute_result"
    }
   ],
   "source": [
    "solution1([0, 1, 2, 4, 3],[[0, 4, 1],[0, 3, 2],[0, 3, 3]])"
   ]
  },
  {
   "cell_type": "code",
   "execution_count": null,
   "id": "34d8e563",
   "metadata": {},
   "outputs": [],
   "source": []
  }
 ],
 "metadata": {
  "kernelspec": {
   "display_name": "Python 3 (ipykernel)",
   "language": "python",
   "name": "python3"
  },
  "language_info": {
   "codemirror_mode": {
    "name": "ipython",
    "version": 3
   },
   "file_extension": ".py",
   "mimetype": "text/x-python",
   "name": "python",
   "nbconvert_exporter": "python",
   "pygments_lexer": "ipython3",
   "version": "3.10.9"
  }
 },
 "nbformat": 4,
 "nbformat_minor": 5
}
