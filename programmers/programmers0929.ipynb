{
 "cells": [
  {
   "cell_type": "code",
   "execution_count": 16,
   "id": "44b5e31a",
   "metadata": {},
   "outputs": [],
   "source": [
    "def solution(my_string):\n",
    "    answer = []\n",
    "    for i in range(len(my_string)):\n",
    "        answer.append(my_string[i:])\n",
    "    new_list=sorted(answer)\n",
    "    print(answer)\n",
    "    return new_list"
   ]
  },
  {
   "cell_type": "code",
   "execution_count": 17,
   "id": "952a009e",
   "metadata": {
    "scrolled": true
   },
   "outputs": [
    {
     "name": "stdout",
     "output_type": "stream",
     "text": [
      "['banana', 'anana', 'nana', 'ana', 'na', 'a']\n"
     ]
    },
    {
     "data": {
      "text/plain": [
       "['a', 'ana', 'anana', 'banana', 'na', 'nana']"
      ]
     },
     "execution_count": 17,
     "metadata": {},
     "output_type": "execute_result"
    }
   ],
   "source": [
    "solution(\"banana\")"
   ]
  },
  {
   "cell_type": "code",
   "execution_count": 19,
   "id": "860b8ffc",
   "metadata": {},
   "outputs": [],
   "source": [
    "def solution1(my_string, is_suffix):\n",
    "    answer = 0\n",
    "    list1=[]\n",
    "    for i in range(len(my_string)):\n",
    "        list1.append(my_string[i:])\n",
    "    if is_suffix in list1:\n",
    "        answer = 1\n",
    "    return answer"
   ]
  },
  {
   "cell_type": "code",
   "execution_count": 20,
   "id": "1368bede",
   "metadata": {},
   "outputs": [
    {
     "data": {
      "text/plain": [
       "1"
      ]
     },
     "execution_count": 20,
     "metadata": {},
     "output_type": "execute_result"
    }
   ],
   "source": [
    "solution1(\"banana\",\"ana\")"
   ]
  },
  {
   "cell_type": "code",
   "execution_count": 26,
   "id": "77862d86",
   "metadata": {},
   "outputs": [],
   "source": [
    "def solution2(my_string, n):\n",
    "    answer = my_string[:n]\n",
    "    return answer"
   ]
  },
  {
   "cell_type": "code",
   "execution_count": 27,
   "id": "60bdaa28",
   "metadata": {},
   "outputs": [
    {
     "data": {
      "text/plain": [
       "'ProgrammerS'"
      ]
     },
     "execution_count": 27,
     "metadata": {},
     "output_type": "execute_result"
    }
   ],
   "source": [
    "solution2(\"ProgrammerS123\",11)"
   ]
  },
  {
   "cell_type": "code",
   "execution_count": 29,
   "id": "23ad3876",
   "metadata": {},
   "outputs": [],
   "source": [
    "def solution(my_string, is_prefix):\n",
    "    answer = 0\n",
    "    list1=[]\n",
    "    for i in range(len(my_string)):\n",
    "        list1.append(my_string[:i+1])\n",
    "    if is_prefix in list1:\n",
    "        answer = 1\n",
    "    return answer"
   ]
  },
  {
   "cell_type": "code",
   "execution_count": 30,
   "id": "00f941e0",
   "metadata": {},
   "outputs": [
    {
     "data": {
      "text/plain": [
       "1"
      ]
     },
     "execution_count": 30,
     "metadata": {},
     "output_type": "execute_result"
    }
   ],
   "source": [
    "solution(\"banana\",\"ban\")"
   ]
  },
  {
   "cell_type": "code",
   "execution_count": 53,
   "id": "c9da7b19",
   "metadata": {},
   "outputs": [],
   "source": [
    "def solution(my_string, s, e):\n",
    "    print(my_string[:s])\n",
    "    print(my_string[s:e][::-1])\n",
    "    print(my_string[e:])\n",
    "    answer = my_string[:s]+my_string[s:e+1][::-1]+my_string[e+1:]\n",
    "    return answer"
   ]
  },
  {
   "cell_type": "code",
   "execution_count": 54,
   "id": "43f37bef",
   "metadata": {},
   "outputs": [
    {
     "name": "stdout",
     "output_type": "stream",
     "text": [
      "Progra\n",
      "merS12\n",
      "m3\n"
     ]
    },
    {
     "data": {
      "text/plain": [
       "'ProgrammerS123'"
      ]
     },
     "execution_count": 54,
     "metadata": {},
     "output_type": "execute_result"
    }
   ],
   "source": [
    "solution(\"Progra21Sremm3\",6,12)"
   ]
  },
  {
   "cell_type": "code",
   "execution_count": 79,
   "id": "8b410eab",
   "metadata": {},
   "outputs": [],
   "source": [
    "def solution(my_string, m, c):\n",
    "    answer = ''\n",
    "    list1=[]\n",
    "    for i in range(len(my_string)//m):\n",
    "        list1.append(my_string[i*m:i*m+m])\n",
    "    for i in list1:\n",
    "        answer+=i[c-1]\n",
    "    return answer"
   ]
  },
  {
   "cell_type": "code",
   "execution_count": 80,
   "id": "91c491da",
   "metadata": {},
   "outputs": [
    {
     "data": {
      "text/plain": [
       "'happy'"
      ]
     },
     "execution_count": 80,
     "metadata": {},
     "output_type": "execute_result"
    }
   ],
   "source": [
    "solution(\"ihrhbakrfpndopljhygc\",4,2)"
   ]
  },
  {
   "cell_type": "code",
   "execution_count": 62,
   "id": "99e92597",
   "metadata": {},
   "outputs": [],
   "source": [
    "def solution(s, m, c):\n",
    "    return s[c-1::m]"
   ]
  },
  {
   "cell_type": "code",
   "execution_count": 63,
   "id": "2836f3ef",
   "metadata": {
    "scrolled": true
   },
   "outputs": [
    {
     "data": {
      "text/plain": [
       "'happy'"
      ]
     },
     "execution_count": 63,
     "metadata": {},
     "output_type": "execute_result"
    }
   ],
   "source": [
    "solution(\"ihrhbakrfpndopljhygc\",4,2)"
   ]
  }
 ],
 "metadata": {
  "kernelspec": {
   "display_name": "Python 3 (ipykernel)",
   "language": "python",
   "name": "python3"
  },
  "language_info": {
   "codemirror_mode": {
    "name": "ipython",
    "version": 3
   },
   "file_extension": ".py",
   "mimetype": "text/x-python",
   "name": "python",
   "nbconvert_exporter": "python",
   "pygments_lexer": "ipython3",
   "version": "3.10.9"
  }
 },
 "nbformat": 4,
 "nbformat_minor": 5
}
