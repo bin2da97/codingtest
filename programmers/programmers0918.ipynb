{
 "cells": [
  {
   "cell_type": "code",
   "execution_count": 1,
   "id": "d3d970ce",
   "metadata": {},
   "outputs": [],
   "source": [
    "def solution(arr, queries):\n",
    "    for s,e,k in queries:\n",
    "#         print(s,e,k)\n",
    "#         print('=====')\n",
    "        for i in range(s,e+1):\n",
    "#             print(i,k,i%k)\n",
    "            if i%k==0:\n",
    "                arr[i]+=1\n",
    "    return arr"
   ]
  },
  {
   "cell_type": "code",
   "execution_count": 3,
   "id": "35a43a4f",
   "metadata": {},
   "outputs": [
    {
     "data": {
      "text/plain": [
       "[[0, 0], [0, 0]]"
      ]
     },
     "execution_count": 3,
     "metadata": {},
     "output_type": "execute_result"
    }
   ],
   "source": [
    "list1=[[0]*2]*2\n",
    "list1"
   ]
  },
  {
   "cell_type": "code",
   "execution_count": 2,
   "id": "6af65bcf",
   "metadata": {
    "scrolled": true
   },
   "outputs": [
    {
     "data": {
      "text/plain": [
       "[3, 2, 4, 6, 4]"
      ]
     },
     "execution_count": 2,
     "metadata": {},
     "output_type": "execute_result"
    }
   ],
   "source": [
    "solution([0, 1, 2, 4, 3],[[0, 4, 1],[0, 3, 2],[0, 3, 3]])"
   ]
  },
  {
   "cell_type": "code",
   "execution_count": 58,
   "id": "8d7168fe",
   "metadata": {},
   "outputs": [],
   "source": [
    "def solution1(l, r):\n",
    "    answer = []\n",
    "    \n",
    "    for num in range(l, r+1):\n",
    "        has_only_05 = True\n",
    "        \n",
    "        for str_ in str(num):\n",
    "            if  str_!='0' and str_!='5':\n",
    "                has_only_05 = False\n",
    "                break\n",
    "                \n",
    "        if has_only_05:\n",
    "            answer.append(num)\n",
    "            \n",
    "    if not answer:\n",
    "        answer.append(-1)\n",
    "    \n",
    "    return answer"
   ]
  },
  {
   "cell_type": "code",
   "execution_count": 59,
   "id": "571cbe69",
   "metadata": {},
   "outputs": [
    {
     "data": {
      "text/plain": [
       "[5, 50, 55, 500, 505, 550, 555]"
      ]
     },
     "execution_count": 59,
     "metadata": {},
     "output_type": "execute_result"
    }
   ],
   "source": [
    "solution1(5,555)"
   ]
  },
  {
   "cell_type": "code",
   "execution_count": 39,
   "id": "5525aa10",
   "metadata": {},
   "outputs": [],
   "source": [
    "def solution1(l, r):\n",
    "    result = []\n",
    "    \n",
    "    for num in range(l, r+1):\n",
    "        if all(digit in '05' for digit in str(num)):\n",
    "            result.append(num)\n",
    "    \n",
    "    if not result:\n",
    "        return [-1]\n",
    "    \n",
    "    return result"
   ]
  },
  {
   "cell_type": "code",
   "execution_count": 40,
   "id": "e9e1ed1d",
   "metadata": {},
   "outputs": [
    {
     "data": {
      "text/plain": [
       "[5, 50, 55, 500, 505, 550, 555]"
      ]
     },
     "execution_count": 40,
     "metadata": {},
     "output_type": "execute_result"
    }
   ],
   "source": [
    "solution1(5,555)"
   ]
  }
 ],
 "metadata": {
  "kernelspec": {
   "display_name": "Python 3 (ipykernel)",
   "language": "python",
   "name": "python3"
  },
  "language_info": {
   "codemirror_mode": {
    "name": "ipython",
    "version": 3
   },
   "file_extension": ".py",
   "mimetype": "text/x-python",
   "name": "python",
   "nbconvert_exporter": "python",
   "pygments_lexer": "ipython3",
   "version": "3.10.9"
  }
 },
 "nbformat": 4,
 "nbformat_minor": 5
}
